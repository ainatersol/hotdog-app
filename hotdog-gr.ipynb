{
  "cells": [
    {
      "cell_type": "raw",
      "id": "cf370c4a",
      "metadata": {},
      "source": [
        "---\n",
        "title: Is it hotdog?\n",
        "format:\n",
        "  html:\n",
        "    code-fold: false\n",
        "---"
      ]
    },
    {
      "cell_type": "code",
      "execution_count": 1,
      "id": "f3c2e5ce",
      "metadata": {},
      "outputs": [
        {
          "name": "stdout",
          "output_type": "stream",
          "text": [
            "Requirement already satisfied: streamlit in /Users/aina/opt/anaconda3/lib/python3.9/site-packages (from -r requirements.txt (line 3)) (1.12.0)\n",
            "Requirement already satisfied: altair<5 in /Users/aina/opt/anaconda3/lib/python3.9/site-packages (from -r requirements.txt (line 4)) (4.2.2)\n",
            "Requirement already satisfied: blinker>=1.0.0 in /Users/aina/opt/anaconda3/lib/python3.9/site-packages (from streamlit->-r requirements.txt (line 3)) (1.6.2)\n",
            "Requirement already satisfied: pydeck>=0.1.dev5 in /Users/aina/opt/anaconda3/lib/python3.9/site-packages (from streamlit->-r requirements.txt (line 3)) (0.8.1b0)\n",
            "Requirement already satisfied: importlib-metadata>=1.4 in /Users/aina/opt/anaconda3/lib/python3.9/site-packages (from streamlit->-r requirements.txt (line 3)) (4.8.1)\n",
            "Requirement already satisfied: pympler>=0.9 in /Users/aina/opt/anaconda3/lib/python3.9/site-packages (from streamlit->-r requirements.txt (line 3)) (1.0.1)\n",
            "Requirement already satisfied: pyarrow>=4.0 in /Users/aina/opt/anaconda3/lib/python3.9/site-packages (from streamlit->-r requirements.txt (line 3)) (11.0.0)\n",
            "Requirement already satisfied: cachetools>=4.0 in /Users/aina/opt/anaconda3/lib/python3.9/site-packages (from streamlit->-r requirements.txt (line 3)) (5.3.0)\n",
            "Requirement already satisfied: click>=7.0 in /Users/aina/opt/anaconda3/lib/python3.9/site-packages (from streamlit->-r requirements.txt (line 3)) (8.0.3)\n",
            "Requirement already satisfied: typing-extensions>=3.10.0.0 in /Users/aina/opt/anaconda3/lib/python3.9/site-packages (from streamlit->-r requirements.txt (line 3)) (4.6.3)\n",
            "Requirement already satisfied: requests>=2.4 in /Users/aina/opt/anaconda3/lib/python3.9/site-packages (from streamlit->-r requirements.txt (line 3)) (2.26.0)\n",
            "Requirement already satisfied: tornado>=5.0 in /Users/aina/opt/anaconda3/lib/python3.9/site-packages (from streamlit->-r requirements.txt (line 3)) (6.1)\n",
            "Requirement already satisfied: python-dateutil in /Users/aina/opt/anaconda3/lib/python3.9/site-packages (from streamlit->-r requirements.txt (line 3)) (2.8.2)\n",
            "Requirement already satisfied: packaging>=14.1 in /Users/aina/opt/anaconda3/lib/python3.9/site-packages (from streamlit->-r requirements.txt (line 3)) (21.0)\n",
            "Requirement already satisfied: pillow>=6.2.0 in /Users/aina/opt/anaconda3/lib/python3.9/site-packages (from streamlit->-r requirements.txt (line 3)) (8.4.0)\n",
            "Requirement already satisfied: pandas>=0.21.0 in /Users/aina/opt/anaconda3/lib/python3.9/site-packages (from streamlit->-r requirements.txt (line 3)) (1.3.4)\n",
            "Requirement already satisfied: tzlocal>=1.1 in /Users/aina/opt/anaconda3/lib/python3.9/site-packages (from streamlit->-r requirements.txt (line 3)) (5.0.1)\n",
            "Requirement already satisfied: semver in /Users/aina/opt/anaconda3/lib/python3.9/site-packages (from streamlit->-r requirements.txt (line 3)) (3.0.1)\n",
            "Requirement already satisfied: validators>=0.2 in /Users/aina/opt/anaconda3/lib/python3.9/site-packages (from streamlit->-r requirements.txt (line 3)) (0.22.0)\n",
            "Requirement already satisfied: rich>=10.11.0 in /Users/aina/opt/anaconda3/lib/python3.9/site-packages (from streamlit->-r requirements.txt (line 3)) (13.5.2)\n",
            "Requirement already satisfied: toml in /Users/aina/opt/anaconda3/lib/python3.9/site-packages (from streamlit->-r requirements.txt (line 3)) (0.10.2)\n",
            "Requirement already satisfied: protobuf<4,>=3.12 in /Users/aina/opt/anaconda3/lib/python3.9/site-packages (from streamlit->-r requirements.txt (line 3)) (3.19.6)\n",
            "Requirement already satisfied: gitpython!=3.1.19 in /Users/aina/opt/anaconda3/lib/python3.9/site-packages (from streamlit->-r requirements.txt (line 3)) (3.1.34)\n",
            "Requirement already satisfied: numpy in /Users/aina/opt/anaconda3/lib/python3.9/site-packages (from streamlit->-r requirements.txt (line 3)) (1.20.3)\n",
            "Requirement already satisfied: jsonschema>=3.0 in /Users/aina/opt/anaconda3/lib/python3.9/site-packages (from altair<5->-r requirements.txt (line 4)) (3.2.0)\n",
            "Requirement already satisfied: entrypoints in /Users/aina/opt/anaconda3/lib/python3.9/site-packages (from altair<5->-r requirements.txt (line 4)) (0.3)\n",
            "Requirement already satisfied: jinja2 in /Users/aina/opt/anaconda3/lib/python3.9/site-packages (from altair<5->-r requirements.txt (line 4)) (2.11.3)\n",
            "Requirement already satisfied: toolz in /Users/aina/opt/anaconda3/lib/python3.9/site-packages (from altair<5->-r requirements.txt (line 4)) (0.11.1)\n",
            "Requirement already satisfied: gitdb<5,>=4.0.1 in /Users/aina/opt/anaconda3/lib/python3.9/site-packages (from gitpython!=3.1.19->streamlit->-r requirements.txt (line 3)) (4.0.10)\n",
            "Requirement already satisfied: smmap<6,>=3.0.1 in /Users/aina/opt/anaconda3/lib/python3.9/site-packages (from gitdb<5,>=4.0.1->gitpython!=3.1.19->streamlit->-r requirements.txt (line 3)) (5.0.0)\n",
            "Requirement already satisfied: zipp>=0.5 in /Users/aina/opt/anaconda3/lib/python3.9/site-packages (from importlib-metadata>=1.4->streamlit->-r requirements.txt (line 3)) (3.6.0)\n",
            "Requirement already satisfied: setuptools in /Users/aina/opt/anaconda3/lib/python3.9/site-packages (from jsonschema>=3.0->altair<5->-r requirements.txt (line 4)) (58.0.4)\n",
            "Requirement already satisfied: pyrsistent>=0.14.0 in /Users/aina/opt/anaconda3/lib/python3.9/site-packages (from jsonschema>=3.0->altair<5->-r requirements.txt (line 4)) (0.18.0)\n",
            "Requirement already satisfied: attrs>=17.4.0 in /Users/aina/opt/anaconda3/lib/python3.9/site-packages (from jsonschema>=3.0->altair<5->-r requirements.txt (line 4)) (21.2.0)\n",
            "Requirement already satisfied: six>=1.11.0 in /Users/aina/opt/anaconda3/lib/python3.9/site-packages (from jsonschema>=3.0->altair<5->-r requirements.txt (line 4)) (1.16.0)\n",
            "Requirement already satisfied: pyparsing>=2.0.2 in /Users/aina/opt/anaconda3/lib/python3.9/site-packages (from packaging>=14.1->streamlit->-r requirements.txt (line 3)) (3.0.4)\n",
            "Requirement already satisfied: pytz>=2017.3 in /Users/aina/opt/anaconda3/lib/python3.9/site-packages (from pandas>=0.21.0->streamlit->-r requirements.txt (line 3)) (2021.3)\n",
            "Requirement already satisfied: MarkupSafe>=0.23 in /Users/aina/opt/anaconda3/lib/python3.9/site-packages (from jinja2->altair<5->-r requirements.txt (line 4)) (1.1.1)\n",
            "Requirement already satisfied: idna<4,>=2.5 in /Users/aina/opt/anaconda3/lib/python3.9/site-packages (from requests>=2.4->streamlit->-r requirements.txt (line 3)) (3.2)\n",
            "Requirement already satisfied: certifi>=2017.4.17 in /Users/aina/opt/anaconda3/lib/python3.9/site-packages (from requests>=2.4->streamlit->-r requirements.txt (line 3)) (2021.10.8)\n",
            "Requirement already satisfied: charset-normalizer~=2.0.0 in /Users/aina/opt/anaconda3/lib/python3.9/site-packages (from requests>=2.4->streamlit->-r requirements.txt (line 3)) (2.0.4)\n",
            "Requirement already satisfied: urllib3<1.27,>=1.21.1 in /Users/aina/opt/anaconda3/lib/python3.9/site-packages (from requests>=2.4->streamlit->-r requirements.txt (line 3)) (1.26.7)\n",
            "Requirement already satisfied: pygments<3.0.0,>=2.13.0 in /Users/aina/opt/anaconda3/lib/python3.9/site-packages (from rich>=10.11.0->streamlit->-r requirements.txt (line 3)) (2.16.1)\n",
            "Requirement already satisfied: markdown-it-py>=2.2.0 in /Users/aina/opt/anaconda3/lib/python3.9/site-packages (from rich>=10.11.0->streamlit->-r requirements.txt (line 3)) (3.0.0)\n",
            "Requirement already satisfied: mdurl~=0.1 in /Users/aina/opt/anaconda3/lib/python3.9/site-packages (from markdown-it-py>=2.2.0->rich>=10.11.0->streamlit->-r requirements.txt (line 3)) (0.1.2)\n",
            "Note: you may need to restart the kernel to use updated packages.\n"
          ]
        }
      ],
      "source": [
        "%pip install -r requirements.txt\n",
        "from fastai.vision.all import *\n",
        "learn = load_learner('hotdog.pkl')"
      ]
    },
    {
      "cell_type": "code",
      "execution_count": 3,
      "id": "8ba11be5",
      "metadata": {},
      "outputs": [],
      "source": [
        "categories = ('hotdog', 'pasta', 'pizza', 'salad', 'sandwich')\n",
        "\n",
        "def classify_images(img):\n",
        "    pred, idx, probs = learn.predict(img)\n",
        "    return dict(zip(categories, map(float, probs))) #gradio interface expects a dictionary\n",
        "\n",
        "examples = [f'{c}.jpg' for c in categories]"
      ]
    },
    {
      "cell_type": "code",
      "execution_count": 6,
      "id": "5db0a704",
      "metadata": {},
      "outputs": [
        {
          "data": {
            "text/html": [
              "\n",
              "<style>\n",
              "    /* Turns off some styling */\n",
              "    progress {\n",
              "        /* gets rid of default border in Firefox and Opera. */\n",
              "        border: none;\n",
              "        /* Needs to be in here for Safari polyfill so background images work as expected. */\n",
              "        background-size: auto;\n",
              "    }\n",
              "    progress:not([value]), progress:not([value])::-webkit-progress-bar {\n",
              "        background: repeating-linear-gradient(45deg, #7e7e7e, #7e7e7e 10px, #5c5c5c 10px, #5c5c5c 20px);\n",
              "    }\n",
              "    .progress-bar-interrupted, .progress-bar-interrupted::-webkit-progress-bar {\n",
              "        background: #F44336;\n",
              "    }\n",
              "</style>\n"
            ],
            "text/plain": [
              "<IPython.core.display.HTML object>"
            ]
          },
          "metadata": {},
          "output_type": "display_data"
        },
        {
          "data": {
            "text/html": [],
            "text/plain": [
              "<IPython.core.display.HTML object>"
            ]
          },
          "metadata": {},
          "output_type": "display_data"
        },
        {
          "data": {
            "text/plain": [
              "{'hotdog': 0.0003620696079451591,\n",
              " 'pasta': 0.9989191293716431,\n",
              " 'pizza': 0.0007065285462886095,\n",
              " 'salad': 9.57922384259291e-06,\n",
              " 'sandwich': 2.7414960186433746e-06}"
            ]
          },
          "execution_count": 6,
          "metadata": {},
          "output_type": "execute_result"
        }
      ],
      "source": [
        "idx = 0\n",
        "img = np.array(Image.open('JH/'+examples[idx]))\n",
        "pred = classify_images(img)\n",
        "pred"
      ]
    },
    {
      "cell_type": "code",
      "execution_count": null,
      "id": "3add9a5a",
      "metadata": {},
      "outputs": [],
      "source": [
        "%pip install -r requirements.txt\n",
        "from fastai.vision.all import *\n",
        "import gradio as gr\n",
        "\n",
        "def is_hotdog(x): return x[0].isupper()\n",
        "\n",
        "learn = load_learner('hotdog.pkl')\n",
        "\n",
        "categories = ('hotdog', 'pasta', 'pizza', 'salad', 'sandwich')\n",
        "\n",
        "def classify_images(img):\n",
        "    pred, idx, probs = learn.predict(img)\n",
        "    return dict(zip(categories, map(float, probs))) #gradio interface expects a dictionary\n",
        "\n",
        "image = gr.inputs.Image(shape=(192,192))\n",
        "label = gr.outputs.Label()\n",
        "examples = [f'{c}.jpg' for c in categories]\n",
        "\n",
        "\n",
        "intf = gr.Interface(fn=classify_images, inputs=image, outputs=label, examples=examples)\n",
        "intf.launch()"
      ]
    }
  ],
  "metadata": {
    "kernelspec": {
      "display_name": "Python 3",
      "language": "python",
      "name": "python3"
    },
    "language_info": {
      "codemirror_mode": {
        "name": "ipython",
        "version": 3
      },
      "file_extension": ".py",
      "mimetype": "text/x-python",
      "name": "python",
      "nbconvert_exporter": "python",
      "pygments_lexer": "ipython3",
      "version": "3.9.7"
    }
  },
  "nbformat": 4,
  "nbformat_minor": 5
}
