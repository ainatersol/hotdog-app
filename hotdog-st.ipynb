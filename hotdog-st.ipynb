{
  "cells": [
    {
      "cell_type": "raw",
      "id": "cf370c4a",
      "metadata": {},
      "source": [
        "---\n",
        "title: Is it hotdog?\n",
        "format:\n",
        "  html:\n",
        "    code-fold: false\n",
        "---"
      ]
    },
    {
      "cell_type": "raw",
      "id": "823c88fc",
      "metadata": {},
      "source": [
        "%pip install -r requirements.txt\n",
        "from fastai.vision.all import *\n",
        "import streamlit as st"
      ]
    },
    {
      "cell_type": "raw",
      "id": "34e71961",
      "metadata": {},
      "source": [
        "st.write()"
      ]
    },
    {
      "cell_type": "code",
      "execution_count": 1,
      "id": "3add9a5a",
      "metadata": {},
      "outputs": [
        {
          "name": "stdout",
          "output_type": "stream",
          "text": [
            "Collecting streamlit\n",
            "  Downloading streamlit-1.12.0-py2.py3-none-any.whl (9.1 MB)\n",
            "\u001b[K     |████████████████████████████████| 9.1 MB 266 kB/s eta 0:00:01\n",
            "\u001b[?25hRequirement already satisfied: toml in /Users/aina/opt/anaconda3/lib/python3.9/site-packages (from streamlit->-r requirements.txt (line 3)) (0.10.2)\n",
            "Requirement already satisfied: tornado>=5.0 in /Users/aina/opt/anaconda3/lib/python3.9/site-packages (from streamlit->-r requirements.txt (line 3)) (6.1)\n",
            "Collecting semver\n",
            "  Downloading semver-3.0.1-py3-none-any.whl (17 kB)\n",
            "Requirement already satisfied: requests>=2.4 in /Users/aina/opt/anaconda3/lib/python3.9/site-packages (from streamlit->-r requirements.txt (line 3)) (2.26.0)\n",
            "Collecting altair>=3.2.0\n",
            "  Downloading altair-5.1.1-py3-none-any.whl (520 kB)\n",
            "\u001b[K     |████████████████████████████████| 520 kB 11.5 MB/s eta 0:00:01\n",
            "\u001b[?25hCollecting pydeck>=0.1.dev5\n",
            "  Downloading pydeck-0.8.1b0-py2.py3-none-any.whl (4.8 MB)\n",
            "\u001b[K     |████████████████████████████████| 4.8 MB 11.0 MB/s eta 0:00:01\n",
            "\u001b[?25hCollecting pympler>=0.9\n",
            "  Downloading Pympler-1.0.1-py3-none-any.whl (164 kB)\n",
            "\u001b[K     |████████████████████████████████| 164 kB 5.9 MB/s eta 0:00:01\n",
            "\u001b[?25hRequirement already satisfied: python-dateutil in /Users/aina/opt/anaconda3/lib/python3.9/site-packages (from streamlit->-r requirements.txt (line 3)) (2.8.2)\n",
            "Requirement already satisfied: pandas>=0.21.0 in /Users/aina/opt/anaconda3/lib/python3.9/site-packages (from streamlit->-r requirements.txt (line 3)) (1.3.4)\n",
            "Requirement already satisfied: pyarrow>=4.0 in /Users/aina/opt/anaconda3/lib/python3.9/site-packages (from streamlit->-r requirements.txt (line 3)) (11.0.0)\n",
            "Collecting blinker>=1.0.0\n",
            "  Downloading blinker-1.6.2-py3-none-any.whl (13 kB)\n",
            "Collecting validators>=0.2\n",
            "  Downloading validators-0.22.0-py3-none-any.whl (26 kB)\n",
            "Collecting gitpython!=3.1.19\n",
            "  Downloading GitPython-3.1.34-py3-none-any.whl (188 kB)\n",
            "\u001b[K     |████████████████████████████████| 188 kB 10.0 MB/s eta 0:00:01\n",
            "\u001b[?25hCollecting tzlocal>=1.1\n",
            "  Downloading tzlocal-5.0.1-py3-none-any.whl (20 kB)\n",
            "Requirement already satisfied: numpy in /Users/aina/opt/anaconda3/lib/python3.9/site-packages (from streamlit->-r requirements.txt (line 3)) (1.20.3)\n",
            "Requirement already satisfied: protobuf<4,>=3.12 in /Users/aina/opt/anaconda3/lib/python3.9/site-packages (from streamlit->-r requirements.txt (line 3)) (3.19.6)\n",
            "Requirement already satisfied: importlib-metadata>=1.4 in /Users/aina/opt/anaconda3/lib/python3.9/site-packages (from streamlit->-r requirements.txt (line 3)) (4.8.1)\n",
            "Requirement already satisfied: pillow>=6.2.0 in /Users/aina/opt/anaconda3/lib/python3.9/site-packages (from streamlit->-r requirements.txt (line 3)) (8.4.0)\n",
            "Requirement already satisfied: typing-extensions>=3.10.0.0 in /Users/aina/opt/anaconda3/lib/python3.9/site-packages (from streamlit->-r requirements.txt (line 3)) (4.6.3)\n",
            "Collecting rich>=10.11.0\n",
            "  Downloading rich-13.5.2-py3-none-any.whl (239 kB)\n",
            "\u001b[K     |████████████████████████████████| 239 kB 9.5 MB/s eta 0:00:01\n",
            "\u001b[?25hRequirement already satisfied: cachetools>=4.0 in /Users/aina/opt/anaconda3/lib/python3.9/site-packages (from streamlit->-r requirements.txt (line 3)) (5.3.0)\n",
            "Requirement already satisfied: click>=7.0 in /Users/aina/opt/anaconda3/lib/python3.9/site-packages (from streamlit->-r requirements.txt (line 3)) (8.0.3)\n",
            "Requirement already satisfied: packaging>=14.1 in /Users/aina/opt/anaconda3/lib/python3.9/site-packages (from streamlit->-r requirements.txt (line 3)) (21.0)\n",
            "Requirement already satisfied: toolz in /Users/aina/opt/anaconda3/lib/python3.9/site-packages (from altair>=3.2.0->streamlit->-r requirements.txt (line 3)) (0.11.1)\n",
            "Requirement already satisfied: jsonschema>=3.0 in /Users/aina/opt/anaconda3/lib/python3.9/site-packages (from altair>=3.2.0->streamlit->-r requirements.txt (line 3)) (3.2.0)\n",
            "Requirement already satisfied: jinja2 in /Users/aina/opt/anaconda3/lib/python3.9/site-packages (from altair>=3.2.0->streamlit->-r requirements.txt (line 3)) (2.11.3)\n",
            "Collecting gitdb<5,>=4.0.1\n",
            "  Downloading gitdb-4.0.10-py3-none-any.whl (62 kB)\n",
            "\u001b[K     |████████████████████████████████| 62 kB 3.3 MB/s eta 0:00:011\n",
            "\u001b[?25hCollecting smmap<6,>=3.0.1\n",
            "  Downloading smmap-5.0.0-py3-none-any.whl (24 kB)\n",
            "Requirement already satisfied: zipp>=0.5 in /Users/aina/opt/anaconda3/lib/python3.9/site-packages (from importlib-metadata>=1.4->streamlit->-r requirements.txt (line 3)) (3.6.0)\n",
            "Requirement already satisfied: pyrsistent>=0.14.0 in /Users/aina/opt/anaconda3/lib/python3.9/site-packages (from jsonschema>=3.0->altair>=3.2.0->streamlit->-r requirements.txt (line 3)) (0.18.0)\n",
            "Requirement already satisfied: six>=1.11.0 in /Users/aina/opt/anaconda3/lib/python3.9/site-packages (from jsonschema>=3.0->altair>=3.2.0->streamlit->-r requirements.txt (line 3)) (1.16.0)\n",
            "Requirement already satisfied: attrs>=17.4.0 in /Users/aina/opt/anaconda3/lib/python3.9/site-packages (from jsonschema>=3.0->altair>=3.2.0->streamlit->-r requirements.txt (line 3)) (21.2.0)\n",
            "Requirement already satisfied: setuptools in /Users/aina/opt/anaconda3/lib/python3.9/site-packages (from jsonschema>=3.0->altair>=3.2.0->streamlit->-r requirements.txt (line 3)) (58.0.4)\n",
            "Requirement already satisfied: pyparsing>=2.0.2 in /Users/aina/opt/anaconda3/lib/python3.9/site-packages (from packaging>=14.1->streamlit->-r requirements.txt (line 3)) (3.0.4)\n",
            "Requirement already satisfied: pytz>=2017.3 in /Users/aina/opt/anaconda3/lib/python3.9/site-packages (from pandas>=0.21.0->streamlit->-r requirements.txt (line 3)) (2021.3)\n",
            "Requirement already satisfied: MarkupSafe>=0.23 in /Users/aina/opt/anaconda3/lib/python3.9/site-packages (from jinja2->altair>=3.2.0->streamlit->-r requirements.txt (line 3)) (1.1.1)\n",
            "Requirement already satisfied: urllib3<1.27,>=1.21.1 in /Users/aina/opt/anaconda3/lib/python3.9/site-packages (from requests>=2.4->streamlit->-r requirements.txt (line 3)) (1.26.7)\n",
            "Requirement already satisfied: certifi>=2017.4.17 in /Users/aina/opt/anaconda3/lib/python3.9/site-packages (from requests>=2.4->streamlit->-r requirements.txt (line 3)) (2021.10.8)\n",
            "Requirement already satisfied: charset-normalizer~=2.0.0 in /Users/aina/opt/anaconda3/lib/python3.9/site-packages (from requests>=2.4->streamlit->-r requirements.txt (line 3)) (2.0.4)\n",
            "Requirement already satisfied: idna<4,>=2.5 in /Users/aina/opt/anaconda3/lib/python3.9/site-packages (from requests>=2.4->streamlit->-r requirements.txt (line 3)) (3.2)\n",
            "Collecting pygments<3.0.0,>=2.13.0\n",
            "  Downloading Pygments-2.16.1-py3-none-any.whl (1.2 MB)\n",
            "\u001b[K     |████████████████████████████████| 1.2 MB 9.8 MB/s eta 0:00:01\n",
            "\u001b[?25hCollecting markdown-it-py>=2.2.0\n",
            "  Using cached markdown_it_py-3.0.0-py3-none-any.whl (87 kB)\n",
            "Collecting mdurl~=0.1\n",
            "  Using cached mdurl-0.1.2-py3-none-any.whl (10.0 kB)\n",
            "Installing collected packages: smmap, mdurl, pygments, markdown-it-py, gitdb, validators, tzlocal, semver, rich, pympler, pydeck, gitpython, blinker, altair, streamlit\n",
            "  Attempting uninstall: pygments\n",
            "    Found existing installation: Pygments 2.10.0\n",
            "    Uninstalling Pygments-2.10.0:\n",
            "      Successfully uninstalled Pygments-2.10.0\n",
            "\u001b[31mERROR: pip's dependency resolver does not currently take into account all the packages that are installed. This behaviour is the source of the following dependency conflicts.\n",
            "spyder 5.1.5 requires pyqt5<5.13, which is not installed.\n",
            "spyder 5.1.5 requires pyqtwebengine<5.13, which is not installed.\u001b[0m\n",
            "Successfully installed altair-5.1.1 blinker-1.6.2 gitdb-4.0.10 gitpython-3.1.34 markdown-it-py-3.0.0 mdurl-0.1.2 pydeck-0.8.1b0 pygments-2.16.1 pympler-1.0.1 rich-13.5.2 semver-3.0.1 smmap-5.0.0 streamlit-1.12.0 tzlocal-5.0.1 validators-0.22.0\n",
            "Note: you may need to restart the kernel to use updated packages.\n"
          ]
        },
        {
          "ename": "ModuleNotFoundError",
          "evalue": "No module named 'altair.vegalite.v4'",
          "output_type": "error",
          "traceback": [
            "\u001b[0;31m---------------------------------------------------------------------------\u001b[0m",
            "\u001b[0;31mModuleNotFoundError\u001b[0m                       Traceback (most recent call last)",
            "\u001b[0;32m/var/folders/fy/m2y3wbmn1lbcwm2rl2s60d_h0000gp/T/ipykernel_30286/3902686811.py\u001b[0m in \u001b[0;36m<module>\u001b[0;34m\u001b[0m\n\u001b[1;32m      1\u001b[0m \u001b[0mget_ipython\u001b[0m\u001b[0;34m(\u001b[0m\u001b[0;34m)\u001b[0m\u001b[0;34m.\u001b[0m\u001b[0mrun_line_magic\u001b[0m\u001b[0;34m(\u001b[0m\u001b[0;34m'pip'\u001b[0m\u001b[0;34m,\u001b[0m \u001b[0;34m'install -r requirements.txt'\u001b[0m\u001b[0;34m)\u001b[0m\u001b[0;34m\u001b[0m\u001b[0;34m\u001b[0m\u001b[0m\n\u001b[1;32m      2\u001b[0m \u001b[0;32mfrom\u001b[0m \u001b[0mfastai\u001b[0m\u001b[0;34m.\u001b[0m\u001b[0mvision\u001b[0m\u001b[0;34m.\u001b[0m\u001b[0mall\u001b[0m \u001b[0;32mimport\u001b[0m \u001b[0;34m*\u001b[0m\u001b[0;34m\u001b[0m\u001b[0;34m\u001b[0m\u001b[0m\n\u001b[0;32m----> 3\u001b[0;31m \u001b[0;32mimport\u001b[0m \u001b[0mstreamlit\u001b[0m \u001b[0;32mas\u001b[0m \u001b[0mst\u001b[0m\u001b[0;34m\u001b[0m\u001b[0;34m\u001b[0m\u001b[0m\n\u001b[0m\u001b[1;32m      4\u001b[0m \u001b[0;34m\u001b[0m\u001b[0m\n\u001b[1;32m      5\u001b[0m \u001b[0;32mdef\u001b[0m \u001b[0mis_hotdog\u001b[0m\u001b[0;34m(\u001b[0m\u001b[0mx\u001b[0m\u001b[0;34m)\u001b[0m\u001b[0;34m:\u001b[0m \u001b[0;32mreturn\u001b[0m \u001b[0mx\u001b[0m\u001b[0;34m[\u001b[0m\u001b[0;36m0\u001b[0m\u001b[0;34m]\u001b[0m\u001b[0;34m.\u001b[0m\u001b[0misupper\u001b[0m\u001b[0;34m(\u001b[0m\u001b[0;34m)\u001b[0m\u001b[0;34m\u001b[0m\u001b[0;34m\u001b[0m\u001b[0m\n",
            "\u001b[0;32m~/opt/anaconda3/lib/python3.9/site-packages/streamlit/__init__.py\u001b[0m in \u001b[0;36m<module>\u001b[0;34m\u001b[0m\n\u001b[1;32m     68\u001b[0m \u001b[0;32mfrom\u001b[0m \u001b[0mstreamlit\u001b[0m \u001b[0;32mimport\u001b[0m \u001b[0msource_util\u001b[0m \u001b[0;32mas\u001b[0m \u001b[0m_source_util\u001b[0m\u001b[0;34m\u001b[0m\u001b[0;34m\u001b[0m\u001b[0m\n\u001b[1;32m     69\u001b[0m \u001b[0;32mfrom\u001b[0m \u001b[0mstreamlit\u001b[0m \u001b[0;32mimport\u001b[0m \u001b[0mstring_util\u001b[0m \u001b[0;32mas\u001b[0m \u001b[0m_string_util\u001b[0m\u001b[0;34m\u001b[0m\u001b[0;34m\u001b[0m\u001b[0m\n\u001b[0;32m---> 70\u001b[0;31m \u001b[0;32mfrom\u001b[0m \u001b[0mstreamlit\u001b[0m\u001b[0;34m.\u001b[0m\u001b[0mdelta_generator\u001b[0m \u001b[0;32mimport\u001b[0m \u001b[0mDeltaGenerator\u001b[0m \u001b[0;32mas\u001b[0m \u001b[0m_DeltaGenerator\u001b[0m\u001b[0;34m\u001b[0m\u001b[0;34m\u001b[0m\u001b[0m\n\u001b[0m\u001b[1;32m     71\u001b[0m from streamlit.runtime.scriptrunner import (\n\u001b[1;32m     72\u001b[0m     \u001b[0madd_script_run_ctx\u001b[0m \u001b[0;32mas\u001b[0m \u001b[0m_add_script_run_ctx\u001b[0m\u001b[0;34m,\u001b[0m\u001b[0;34m\u001b[0m\u001b[0;34m\u001b[0m\u001b[0m\n",
            "\u001b[0;32m~/opt/anaconda3/lib/python3.9/site-packages/streamlit/delta_generator.py\u001b[0m in \u001b[0;36m<module>\u001b[0;34m\u001b[0m\n\u001b[1;32m     88\u001b[0m \u001b[0;31m# We select between them with the DataFrameElementSelectorMixin.\u001b[0m\u001b[0;34m\u001b[0m\u001b[0;34m\u001b[0m\u001b[0m\n\u001b[1;32m     89\u001b[0m \u001b[0;32mfrom\u001b[0m \u001b[0mstreamlit\u001b[0m\u001b[0;34m.\u001b[0m\u001b[0melements\u001b[0m\u001b[0;34m.\u001b[0m\u001b[0marrow\u001b[0m \u001b[0;32mimport\u001b[0m \u001b[0mArrowMixin\u001b[0m\u001b[0;34m\u001b[0m\u001b[0;34m\u001b[0m\u001b[0m\n\u001b[0;32m---> 90\u001b[0;31m \u001b[0;32mfrom\u001b[0m \u001b[0mstreamlit\u001b[0m\u001b[0;34m.\u001b[0m\u001b[0melements\u001b[0m\u001b[0;34m.\u001b[0m\u001b[0marrow_altair\u001b[0m \u001b[0;32mimport\u001b[0m \u001b[0mArrowAltairMixin\u001b[0m\u001b[0;34m\u001b[0m\u001b[0;34m\u001b[0m\u001b[0m\n\u001b[0m\u001b[1;32m     91\u001b[0m \u001b[0;32mfrom\u001b[0m \u001b[0mstreamlit\u001b[0m\u001b[0;34m.\u001b[0m\u001b[0melements\u001b[0m\u001b[0;34m.\u001b[0m\u001b[0marrow_vega_lite\u001b[0m \u001b[0;32mimport\u001b[0m \u001b[0mArrowVegaLiteMixin\u001b[0m\u001b[0;34m\u001b[0m\u001b[0;34m\u001b[0m\u001b[0m\n\u001b[1;32m     92\u001b[0m \u001b[0;32mfrom\u001b[0m \u001b[0mstreamlit\u001b[0m\u001b[0;34m.\u001b[0m\u001b[0melements\u001b[0m\u001b[0;34m.\u001b[0m\u001b[0mlegacy_data_frame\u001b[0m \u001b[0;32mimport\u001b[0m \u001b[0mLegacyDataFrameMixin\u001b[0m\u001b[0;34m\u001b[0m\u001b[0;34m\u001b[0m\u001b[0m\n",
            "\u001b[0;32m~/opt/anaconda3/lib/python3.9/site-packages/streamlit/elements/arrow_altair.py\u001b[0m in \u001b[0;36m<module>\u001b[0;34m\u001b[0m\n\u001b[1;32m     33\u001b[0m \u001b[0;32mimport\u001b[0m \u001b[0maltair\u001b[0m \u001b[0;32mas\u001b[0m \u001b[0malt\u001b[0m\u001b[0;34m\u001b[0m\u001b[0;34m\u001b[0m\u001b[0m\n\u001b[1;32m     34\u001b[0m \u001b[0;32mimport\u001b[0m \u001b[0mpandas\u001b[0m \u001b[0;32mas\u001b[0m \u001b[0mpd\u001b[0m\u001b[0;34m\u001b[0m\u001b[0;34m\u001b[0m\u001b[0m\n\u001b[0;32m---> 35\u001b[0;31m \u001b[0;32mfrom\u001b[0m \u001b[0maltair\u001b[0m\u001b[0;34m.\u001b[0m\u001b[0mvegalite\u001b[0m\u001b[0;34m.\u001b[0m\u001b[0mv4\u001b[0m\u001b[0;34m.\u001b[0m\u001b[0mapi\u001b[0m \u001b[0;32mimport\u001b[0m \u001b[0mChart\u001b[0m\u001b[0;34m\u001b[0m\u001b[0;34m\u001b[0m\u001b[0m\n\u001b[0m\u001b[1;32m     36\u001b[0m \u001b[0;32mfrom\u001b[0m \u001b[0mpandas\u001b[0m\u001b[0;34m.\u001b[0m\u001b[0mapi\u001b[0m\u001b[0;34m.\u001b[0m\u001b[0mtypes\u001b[0m \u001b[0;32mimport\u001b[0m \u001b[0minfer_dtype\u001b[0m\u001b[0;34m\u001b[0m\u001b[0;34m\u001b[0m\u001b[0m\n\u001b[1;32m     37\u001b[0m \u001b[0;34m\u001b[0m\u001b[0m\n",
            "\u001b[0;31mModuleNotFoundError\u001b[0m: No module named 'altair.vegalite.v4'"
          ]
        }
      ],
      "source": [
        "\n",
        "def is_hotdog(x): return x[0].isupper()\n",
        "\n",
        "learn = load_learner('hotdog.pkl')\n",
        "\n",
        "categories = ('hotdog', 'pasta', 'pizza', 'salad', 'sandwich')\n",
        "\n",
        "def classify_images(img):\n",
        "    pred, idx, probs = learn.predict(img)\n",
        "    return dict(zip(categories, map(float, probs))) #gradio interface expects a dictionary\n",
        "\n",
        "image = gr.inputs.Image(shape=(192,192))\n",
        "label = gr.outputs.Label()\n",
        "examples = [f'{c}.jpg' for c in categories]\n",
        "\n",
        "\n",
        "intf = gr.Interface(fn=classify_images, inputs=image, outputs=label, examples=examples)\n",
        "intf.launch()"
      ]
    },
    {
      "cell_type": "code",
      "execution_count": null,
      "id": "3acb7562",
      "metadata": {},
      "outputs": [],
      "source": []
    }
  ],
  "metadata": {
    "kernelspec": {
      "display_name": "Python 3",
      "language": "python",
      "name": "python3"
    },
    "language_info": {
      "codemirror_mode": {
        "name": "ipython",
        "version": 3
      },
      "file_extension": ".py",
      "mimetype": "text/x-python",
      "name": "python",
      "nbconvert_exporter": "python",
      "pygments_lexer": "ipython3",
      "version": "3.9.7"
    }
  },
  "nbformat": 4,
  "nbformat_minor": 5
}
