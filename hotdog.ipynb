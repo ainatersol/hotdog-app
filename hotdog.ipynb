{
  "cells": [
    {
      "cell_type": "raw",
      "metadata": {},
      "source": [
        "---\n",
        "title: Is it hotdog?\n",
        "format:\n",
        "  html:\n",
        "    code-fold: false\n",
        "---"
      ],
      "id": "35b25c3f"
    },
    {
      "cell_type": "code",
      "metadata": {},
      "source": [
        "from fastai.vision.all import *\n",
        "import gradio as gr\n",
        "\n",
        "def is_hotdog(x): return x[0].isupper()\n",
        "\n",
        "learn = load_learner('hotdog.pkl')\n",
        "\n",
        "categories = ('hotdog', 'pasta', 'pizza', 'salad', 'sandwich')\n",
        "\n",
        "def classify_images(img):\n",
        "    pred, idx, probs = learn.predict(img)\n",
        "    return dict(zip(categories, map(float, probs))) #gradio interface expects a dictionary\n",
        "\n",
        "image = gr.inputs.Image(shape=(192,192))\n",
        "label = gr.outputs.Label()\n",
        "examples = [f'{c}.jpg' for c in categories]\n",
        "\n",
        "\n",
        "intf = gr.Interface(fn=classify_images, inputs=image, outputs=label, examples=examples)\n",
        "intf.launch()"
      ],
      "id": "e558d14e",
      "execution_count": null,
      "outputs": []
    }
  ],
  "metadata": {
    "kernelspec": {
      "display_name": "Python 3",
      "language": "python",
      "name": "python3"
    }
  },
  "nbformat": 4,
  "nbformat_minor": 5
}